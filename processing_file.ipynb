{
 "cells": [
  {
   "cell_type": "code",
   "execution_count": 269,
   "id": "9cf06c66",
   "metadata": {},
   "outputs": [],
   "source": [
    "import pandas as pd"
   ]
  },
  {
   "cell_type": "code",
   "execution_count": 270,
   "id": "0ae86d90",
   "metadata": {},
   "outputs": [],
   "source": [
    "df = pd.read_csv(\"spam_or_not_spam.csv\")"
   ]
  },
  {
   "cell_type": "code",
   "execution_count": 271,
   "id": "cd2e4078",
   "metadata": {
    "scrolled": false
   },
   "outputs": [
    {
     "data": {
      "text/html": [
       "<div>\n",
       "<style scoped>\n",
       "    .dataframe tbody tr th:only-of-type {\n",
       "        vertical-align: middle;\n",
       "    }\n",
       "\n",
       "    .dataframe tbody tr th {\n",
       "        vertical-align: top;\n",
       "    }\n",
       "\n",
       "    .dataframe thead th {\n",
       "        text-align: right;\n",
       "    }\n",
       "</style>\n",
       "<table border=\"1\" class=\"dataframe\">\n",
       "  <thead>\n",
       "    <tr style=\"text-align: right;\">\n",
       "      <th></th>\n",
       "      <th>email</th>\n",
       "      <th>class</th>\n",
       "    </tr>\n",
       "  </thead>\n",
       "  <tbody>\n",
       "    <tr>\n",
       "      <th>0</th>\n",
       "      <td>date wed NUMBER aug NUMBER NUMBER NUMBER NUMB...</td>\n",
       "      <td>0</td>\n",
       "    </tr>\n",
       "    <tr>\n",
       "      <th>1</th>\n",
       "      <td>martin a posted tassos papadopoulos the greek ...</td>\n",
       "      <td>0</td>\n",
       "    </tr>\n",
       "    <tr>\n",
       "      <th>2</th>\n",
       "      <td>man threatens explosion in moscow thursday aug...</td>\n",
       "      <td>0</td>\n",
       "    </tr>\n",
       "    <tr>\n",
       "      <th>3</th>\n",
       "      <td>klez the virus that won t die already the most...</td>\n",
       "      <td>0</td>\n",
       "    </tr>\n",
       "    <tr>\n",
       "      <th>4</th>\n",
       "      <td>in adding cream to spaghetti carbonara which ...</td>\n",
       "      <td>0</td>\n",
       "    </tr>\n",
       "  </tbody>\n",
       "</table>\n",
       "</div>"
      ],
      "text/plain": [
       "                                               email  class\n",
       "0   date wed NUMBER aug NUMBER NUMBER NUMBER NUMB...      0\n",
       "1  martin a posted tassos papadopoulos the greek ...      0\n",
       "2  man threatens explosion in moscow thursday aug...      0\n",
       "3  klez the virus that won t die already the most...      0\n",
       "4   in adding cream to spaghetti carbonara which ...      0"
      ]
     },
     "execution_count": 271,
     "metadata": {},
     "output_type": "execute_result"
    }
   ],
   "source": [
    "df.head()"
   ]
  },
  {
   "cell_type": "code",
   "execution_count": 272,
   "id": "4dcbd48a",
   "metadata": {
    "scrolled": true
   },
   "outputs": [
    {
     "data": {
      "text/plain": [
       "email    0\n",
       "class    0\n",
       "dtype: int64"
      ]
     },
     "execution_count": 272,
     "metadata": {},
     "output_type": "execute_result"
    }
   ],
   "source": [
    "df.isnull().sum()"
   ]
  },
  {
   "cell_type": "code",
   "execution_count": 273,
   "id": "f3256ecf",
   "metadata": {},
   "outputs": [
    {
     "data": {
      "text/plain": [
       "0    2500\n",
       "1     497\n",
       "Name: class, dtype: int64"
      ]
     },
     "execution_count": 273,
     "metadata": {},
     "output_type": "execute_result"
    }
   ],
   "source": [
    "df['class'].value_counts()"
   ]
  },
  {
   "cell_type": "code",
   "execution_count": 274,
   "id": "10cbfe34",
   "metadata": {},
   "outputs": [
    {
     "data": {
      "text/plain": [
       "' date wed NUMBER aug NUMBER NUMBER NUMBER NUMBER NUMBER from chris garrigues cwg dated NUMBER NUMBERfaNUMBERd deepeddy com message id NUMBER NUMBER tmda deepeddy vircio com i can t reproduce this error for me it is very repeatable like every time without fail this is the debug log of the pick happening NUMBER NUMBER NUMBER pick_it exec pick inbox list lbrace lbrace subject ftp rbrace rbrace NUMBER NUMBER sequence mercury NUMBER NUMBER NUMBER exec pick inbox list lbrace lbrace subject ftp rbrace rbrace NUMBER NUMBER sequence mercury NUMBER NUMBER NUMBER ftoc_pickmsgs NUMBER hit NUMBER NUMBER NUMBER marking NUMBER hits NUMBER NUMBER NUMBER tkerror syntax error in expression int note if i run the pick command by hand delta pick inbox list lbrace lbrace subject ftp rbrace rbrace NUMBER NUMBER sequence mercury NUMBER hit that s where the NUMBER hit comes from obviously the version of nmh i m using is delta pick version pick nmh NUMBER NUMBER NUMBER compiled on URL at sun mar NUMBER NUMBER NUMBER NUMBER ict NUMBER and the relevant part of my mh_profile delta mhparam pick seq sel list since the pick command works the sequence actually both of them the one that s explicit on the command line from the search popup and the one that comes from mh_profile do get created kre ps this is still using the version of the code form a day ago i haven t been able to reach the cvs repository today local routing issue i think _______________________________________________ exmh workers mailing list exmh workers URL URL '"
      ]
     },
     "execution_count": 274,
     "metadata": {},
     "output_type": "execute_result"
    }
   ],
   "source": [
    "df.iloc[0][0]"
   ]
  },
  {
   "cell_type": "code",
   "execution_count": 275,
   "id": "ee6c48f9",
   "metadata": {},
   "outputs": [
    {
     "name": "stdout",
     "output_type": "stream",
     "text": [
      "['date', 'wed', 'NUMBER', 'aug', 'NUMBER', 'NUMBER', 'NUMBER', 'NUMBER', 'NUMBER', 'from', 'chris', 'garrigues', 'cwg', 'dated', 'NUMBER', 'NUMBERfaNUMBERd', 'deepeddy', 'com', 'message', 'id', 'NUMBER', 'NUMBER', 'tmda', 'deepeddy', 'vircio', 'com', 'i', 'can', 't', 'reproduce', 'this', 'error', 'for', 'me', 'it', 'is', 'very', 'repeatable', 'like', 'every', 'time', 'without', 'fail', 'this', 'is', 'the', 'debug', 'log', 'of', 'the', 'pick', 'happening', 'NUMBER', 'NUMBER', 'NUMBER', 'pick_it', 'exec', 'pick', 'inbox', 'list', 'lbrace', 'lbrace', 'subject', 'ftp', 'rbrace', 'rbrace', 'NUMBER', 'NUMBER', 'sequence', 'mercury', 'NUMBER', 'NUMBER', 'NUMBER', 'exec', 'pick', 'inbox', 'list', 'lbrace', 'lbrace', 'subject', 'ftp', 'rbrace', 'rbrace', 'NUMBER', 'NUMBER', 'sequence', 'mercury', 'NUMBER', 'NUMBER', 'NUMBER', 'ftoc_pickmsgs', 'NUMBER', 'hit', 'NUMBER', 'NUMBER', 'NUMBER', 'marking', 'NUMBER', 'hits', 'NUMBER', 'NUMBER', 'NUMBER', 'tkerror', 'syntax', 'error', 'in', 'expression', 'int', 'note', 'if', 'i', 'run', 'the', 'pick', 'command', 'by', 'hand', 'delta', 'pick', 'inbox', 'list', 'lbrace', 'lbrace', 'subject', 'ftp', 'rbrace', 'rbrace', 'NUMBER', 'NUMBER', 'sequence', 'mercury', 'NUMBER', 'hit', 'that', 's', 'where', 'the', 'NUMBER', 'hit', 'comes', 'from', 'obviously', 'the', 'version', 'of', 'nmh', 'i', 'm', 'using', 'is', 'delta', 'pick', 'version', 'pick', 'nmh', 'NUMBER', 'NUMBER', 'NUMBER', 'compiled', 'on', 'URL', 'at', 'sun', 'mar', 'NUMBER', 'NUMBER', 'NUMBER', 'NUMBER', 'ict', 'NUMBER', 'and', 'the', 'relevant', 'part', 'of', 'my', 'mh_profile', 'delta', 'mhparam', 'pick', 'seq', 'sel', 'list', 'since', 'the', 'pick', 'command', 'works', 'the', 'sequence', 'actually', 'both', 'of', 'them', 'the', 'one', 'that', 's', 'explicit', 'on', 'the', 'command', 'line', 'from', 'the', 'search', 'popup', 'and', 'the', 'one', 'that', 'comes', 'from', 'mh_profile', 'do', 'get', 'created', 'kre', 'ps', 'this', 'is', 'still', 'using', 'the', 'version', 'of', 'the', 'code', 'form', 'a', 'day', 'ago', 'i', 'haven', 't', 'been', 'able', 'to', 'reach', 'the', 'cvs', 'repository', 'today', 'local', 'routing', 'issue', 'i', 'think', '_______________________________________________', 'exmh', 'workers', 'mailing', 'list', 'exmh', 'workers', 'URL', 'URL']\n"
     ]
    }
   ],
   "source": [
    "words = df.iloc[0][0].split()\n",
    "print(words)"
   ]
  },
  {
   "cell_type": "code",
   "execution_count": 276,
   "id": "bd0d44b8",
   "metadata": {},
   "outputs": [
    {
     "name": "stdout",
     "output_type": "stream",
     "text": [
      "['date', 'wed', 'NUMBER', 'aug', 'NUMBER', 'NUMBER', 'NUMBER', 'NUMBER', 'NUMBER', 'from', 'chris', 'garrigues', 'cwg', 'dated', 'NUMBER', 'NUMBERfaNUMBERd', 'deepeddy', 'com', 'message', 'id', 'NUMBER', 'NUMBER', 'tmda', 'deepeddy', 'vircio', 'com', 'i', 'can', 't', 'reproduce', 'this', 'error', 'for', 'me', 'it', 'is', 'very', 'repeatable', 'like', 'every', 'time', 'without', 'fail', 'this', 'is', 'the', 'debug', 'log', 'of', 'the', 'pick', 'happening', 'NUMBER', 'NUMBER', 'NUMBER', 'exec', 'pick', 'inbox', 'list', 'lbrace', 'lbrace', 'subject', 'ftp', 'rbrace', 'rbrace', 'NUMBER', 'NUMBER', 'sequence', 'mercury', 'NUMBER', 'NUMBER', 'NUMBER', 'exec', 'pick', 'inbox', 'list', 'lbrace', 'lbrace', 'subject', 'ftp', 'rbrace', 'rbrace', 'NUMBER', 'NUMBER', 'sequence', 'mercury', 'NUMBER', 'NUMBER', 'NUMBER', 'NUMBER', 'hit', 'NUMBER', 'NUMBER', 'NUMBER', 'marking', 'NUMBER', 'hits', 'NUMBER', 'NUMBER', 'NUMBER', 'tkerror', 'syntax', 'error', 'in', 'expression', 'int', 'note', 'if', 'i', 'run', 'the', 'pick', 'command', 'by', 'hand', 'delta', 'pick', 'inbox', 'list', 'lbrace', 'lbrace', 'subject', 'ftp', 'rbrace', 'rbrace', 'NUMBER', 'NUMBER', 'sequence', 'mercury', 'NUMBER', 'hit', 'that', 's', 'where', 'the', 'NUMBER', 'hit', 'comes', 'from', 'obviously', 'the', 'version', 'of', 'nmh', 'i', 'm', 'using', 'is', 'delta', 'pick', 'version', 'pick', 'nmh', 'NUMBER', 'NUMBER', 'NUMBER', 'compiled', 'on', 'URL', 'at', 'sun', 'mar', 'NUMBER', 'NUMBER', 'NUMBER', 'NUMBER', 'ict', 'NUMBER', 'and', 'the', 'relevant', 'part', 'of', 'my', 'delta', 'mhparam', 'pick', 'seq', 'sel', 'list', 'since', 'the', 'pick', 'command', 'works', 'the', 'sequence', 'actually', 'both', 'of', 'them', 'the', 'one', 'that', 's', 'explicit', 'on', 'the', 'command', 'line', 'from', 'the', 'search', 'popup', 'and', 'the', 'one', 'that', 'comes', 'from', 'do', 'get', 'created', 'kre', 'ps', 'this', 'is', 'still', 'using', 'the', 'version', 'of', 'the', 'code', 'form', 'a', 'day', 'ago', 'i', 'haven', 't', 'been', 'able', 'to', 'reach', 'the', 'cvs', 'repository', 'today', 'local', 'routing', 'issue', 'i', 'think', 'exmh', 'workers', 'mailing', 'list', 'exmh', 'workers', 'URL', 'URL']\n"
     ]
    }
   ],
   "source": [
    "newwords = []\n",
    "for word in words:\n",
    "    isalpha = False\n",
    "    isnum = False\n",
    "    isspecial = False\n",
    "    for alpha in word:\n",
    "        if alpha>='a' and alpha<='z' or alpha>='A' and alpha<='Z':\n",
    "            isalpha = True\n",
    "        elif alpha>='0' and alpha <='9':\n",
    "            isnum = True\n",
    "        else:\n",
    "            isspecial = True\n",
    "    if isspecial:\n",
    "        continue\n",
    "    elif isalpha and isnum:\n",
    "        continue\n",
    "    else:\n",
    "        newwords.append(word)\n",
    "print(newwords)"
   ]
  },
  {
   "cell_type": "code",
   "execution_count": 277,
   "id": "e932ec51",
   "metadata": {},
   "outputs": [],
   "source": [
    "import numpy as np"
   ]
  },
  {
   "cell_type": "code",
   "execution_count": 278,
   "id": "ff84a389",
   "metadata": {},
   "outputs": [],
   "source": [
    "arr = np.array(newwords)"
   ]
  },
  {
   "cell_type": "code",
   "execution_count": 280,
   "id": "c48771d3",
   "metadata": {},
   "outputs": [
    {
     "data": {
      "text/plain": [
       "(252,)"
      ]
     },
     "execution_count": 280,
     "metadata": {},
     "output_type": "execute_result"
    }
   ],
   "source": [
    "arr.shape"
   ]
  },
  {
   "cell_type": "code",
   "execution_count": 281,
   "id": "52664e1a",
   "metadata": {},
   "outputs": [],
   "source": [
    "from spellchecker import SpellChecker\n",
    "spell = SpellChecker()"
   ]
  },
  {
   "cell_type": "code",
   "execution_count": 282,
   "id": "7eedc876",
   "metadata": {},
   "outputs": [],
   "source": [
    "all_unique_words = {'a'}"
   ]
  },
  {
   "cell_type": "code",
   "execution_count": 283,
   "id": "91aee6a8",
   "metadata": {},
   "outputs": [],
   "source": [
    "for i in range(0, 2997):\n",
    "    email = df.iloc[i][0]\n",
    "    words = email.split()\n",
    "    for word in words:\n",
    "        isalpha = False\n",
    "        isnum = False\n",
    "        isspecial = False\n",
    "        for alpha in word:\n",
    "            if alpha>='a' and alpha<='z' or alpha>='A' and alpha<='Z':\n",
    "                isalpha = True\n",
    "            elif alpha>='0' and alpha <='9':\n",
    "                isnum = True\n",
    "            else:\n",
    "                isspecial = True\n",
    "        if isspecial:\n",
    "            continue\n",
    "        elif isalpha and isnum:\n",
    "            continue\n",
    "        elif len(word)>45:\n",
    "            continue\n",
    "#         elif word != spell.correction(word):\n",
    "#             continue\n",
    "        all_unique_words.add(word)"
   ]
  },
  {
   "cell_type": "code",
   "execution_count": 284,
   "id": "20b9968a",
   "metadata": {},
   "outputs": [
    {
     "data": {
      "text/plain": [
       "27516"
      ]
     },
     "execution_count": 284,
     "metadata": {},
     "output_type": "execute_result"
    }
   ],
   "source": [
    "len(all_unique_words)"
   ]
  },
  {
   "cell_type": "code",
   "execution_count": 286,
   "id": "50f19b5c",
   "metadata": {},
   "outputs": [],
   "source": [
    "row =  [i for i in range (1, 2998)]"
   ]
  },
  {
   "cell_type": "code",
   "execution_count": 288,
   "id": "767e0487",
   "metadata": {
    "scrolled": true
   },
   "outputs": [
    {
     "data": {
      "text/plain": [
       "list"
      ]
     },
     "execution_count": 288,
     "metadata": {},
     "output_type": "execute_result"
    }
   ],
   "source": [
    "type(row)"
   ]
  },
  {
   "cell_type": "code",
   "execution_count": 289,
   "id": "fbe050da",
   "metadata": {},
   "outputs": [],
   "source": [
    "words = [ word for word in all_unique_words]"
   ]
  },
  {
   "cell_type": "code",
   "execution_count": 291,
   "id": "e3e3e15d",
   "metadata": {},
   "outputs": [],
   "source": [
    "new_df = pd.DataFrame(index = row, columns = words)"
   ]
  },
  {
   "cell_type": "code",
   "execution_count": 292,
   "id": "16f3778c",
   "metadata": {
    "scrolled": true
   },
   "outputs": [
    {
     "data": {
      "text/html": [
       "<div>\n",
       "<style scoped>\n",
       "    .dataframe tbody tr th:only-of-type {\n",
       "        vertical-align: middle;\n",
       "    }\n",
       "\n",
       "    .dataframe tbody tr th {\n",
       "        vertical-align: top;\n",
       "    }\n",
       "\n",
       "    .dataframe thead th {\n",
       "        text-align: right;\n",
       "    }\n",
       "</style>\n",
       "<table border=\"1\" class=\"dataframe\">\n",
       "  <thead>\n",
       "    <tr style=\"text-align: right;\">\n",
       "      <th></th>\n",
       "      <th>hoarding</th>\n",
       "      <th>morten</th>\n",
       "      <th>aber</th>\n",
       "      <th>puerile</th>\n",
       "      <th>kren</th>\n",
       "      <th>lesbians</th>\n",
       "      <th>moody</th>\n",
       "      <th>maine</th>\n",
       "      <th>too</th>\n",
       "      <th>windshields</th>\n",
       "      <th>...</th>\n",
       "      <th>myths</th>\n",
       "      <th>searchng</th>\n",
       "      <th>accross</th>\n",
       "      <th>loot</th>\n",
       "      <th>arranged</th>\n",
       "      <th>hatch</th>\n",
       "      <th>sinus</th>\n",
       "      <th>sickness</th>\n",
       "      <th>coaches</th>\n",
       "      <th>drais</th>\n",
       "    </tr>\n",
       "  </thead>\n",
       "  <tbody>\n",
       "    <tr>\n",
       "      <th>1</th>\n",
       "      <td>NaN</td>\n",
       "      <td>NaN</td>\n",
       "      <td>NaN</td>\n",
       "      <td>NaN</td>\n",
       "      <td>NaN</td>\n",
       "      <td>NaN</td>\n",
       "      <td>NaN</td>\n",
       "      <td>NaN</td>\n",
       "      <td>NaN</td>\n",
       "      <td>NaN</td>\n",
       "      <td>...</td>\n",
       "      <td>NaN</td>\n",
       "      <td>NaN</td>\n",
       "      <td>NaN</td>\n",
       "      <td>NaN</td>\n",
       "      <td>NaN</td>\n",
       "      <td>NaN</td>\n",
       "      <td>NaN</td>\n",
       "      <td>NaN</td>\n",
       "      <td>NaN</td>\n",
       "      <td>NaN</td>\n",
       "    </tr>\n",
       "    <tr>\n",
       "      <th>2</th>\n",
       "      <td>NaN</td>\n",
       "      <td>NaN</td>\n",
       "      <td>NaN</td>\n",
       "      <td>NaN</td>\n",
       "      <td>NaN</td>\n",
       "      <td>NaN</td>\n",
       "      <td>NaN</td>\n",
       "      <td>NaN</td>\n",
       "      <td>NaN</td>\n",
       "      <td>NaN</td>\n",
       "      <td>...</td>\n",
       "      <td>NaN</td>\n",
       "      <td>NaN</td>\n",
       "      <td>NaN</td>\n",
       "      <td>NaN</td>\n",
       "      <td>NaN</td>\n",
       "      <td>NaN</td>\n",
       "      <td>NaN</td>\n",
       "      <td>NaN</td>\n",
       "      <td>NaN</td>\n",
       "      <td>NaN</td>\n",
       "    </tr>\n",
       "    <tr>\n",
       "      <th>3</th>\n",
       "      <td>NaN</td>\n",
       "      <td>NaN</td>\n",
       "      <td>NaN</td>\n",
       "      <td>NaN</td>\n",
       "      <td>NaN</td>\n",
       "      <td>NaN</td>\n",
       "      <td>NaN</td>\n",
       "      <td>NaN</td>\n",
       "      <td>NaN</td>\n",
       "      <td>NaN</td>\n",
       "      <td>...</td>\n",
       "      <td>NaN</td>\n",
       "      <td>NaN</td>\n",
       "      <td>NaN</td>\n",
       "      <td>NaN</td>\n",
       "      <td>NaN</td>\n",
       "      <td>NaN</td>\n",
       "      <td>NaN</td>\n",
       "      <td>NaN</td>\n",
       "      <td>NaN</td>\n",
       "      <td>NaN</td>\n",
       "    </tr>\n",
       "    <tr>\n",
       "      <th>4</th>\n",
       "      <td>NaN</td>\n",
       "      <td>NaN</td>\n",
       "      <td>NaN</td>\n",
       "      <td>NaN</td>\n",
       "      <td>NaN</td>\n",
       "      <td>NaN</td>\n",
       "      <td>NaN</td>\n",
       "      <td>NaN</td>\n",
       "      <td>NaN</td>\n",
       "      <td>NaN</td>\n",
       "      <td>...</td>\n",
       "      <td>NaN</td>\n",
       "      <td>NaN</td>\n",
       "      <td>NaN</td>\n",
       "      <td>NaN</td>\n",
       "      <td>NaN</td>\n",
       "      <td>NaN</td>\n",
       "      <td>NaN</td>\n",
       "      <td>NaN</td>\n",
       "      <td>NaN</td>\n",
       "      <td>NaN</td>\n",
       "    </tr>\n",
       "    <tr>\n",
       "      <th>5</th>\n",
       "      <td>NaN</td>\n",
       "      <td>NaN</td>\n",
       "      <td>NaN</td>\n",
       "      <td>NaN</td>\n",
       "      <td>NaN</td>\n",
       "      <td>NaN</td>\n",
       "      <td>NaN</td>\n",
       "      <td>NaN</td>\n",
       "      <td>NaN</td>\n",
       "      <td>NaN</td>\n",
       "      <td>...</td>\n",
       "      <td>NaN</td>\n",
       "      <td>NaN</td>\n",
       "      <td>NaN</td>\n",
       "      <td>NaN</td>\n",
       "      <td>NaN</td>\n",
       "      <td>NaN</td>\n",
       "      <td>NaN</td>\n",
       "      <td>NaN</td>\n",
       "      <td>NaN</td>\n",
       "      <td>NaN</td>\n",
       "    </tr>\n",
       "  </tbody>\n",
       "</table>\n",
       "<p>5 rows × 27516 columns</p>\n",
       "</div>"
      ],
      "text/plain": [
       "  hoarding morten aber puerile kren lesbians moody maine  too windshields  \\\n",
       "1      NaN    NaN  NaN     NaN  NaN      NaN   NaN   NaN  NaN         NaN   \n",
       "2      NaN    NaN  NaN     NaN  NaN      NaN   NaN   NaN  NaN         NaN   \n",
       "3      NaN    NaN  NaN     NaN  NaN      NaN   NaN   NaN  NaN         NaN   \n",
       "4      NaN    NaN  NaN     NaN  NaN      NaN   NaN   NaN  NaN         NaN   \n",
       "5      NaN    NaN  NaN     NaN  NaN      NaN   NaN   NaN  NaN         NaN   \n",
       "\n",
       "   ... myths searchng accross loot arranged hatch sinus sickness coaches drais  \n",
       "1  ...   NaN      NaN     NaN  NaN      NaN   NaN   NaN      NaN     NaN   NaN  \n",
       "2  ...   NaN      NaN     NaN  NaN      NaN   NaN   NaN      NaN     NaN   NaN  \n",
       "3  ...   NaN      NaN     NaN  NaN      NaN   NaN   NaN      NaN     NaN   NaN  \n",
       "4  ...   NaN      NaN     NaN  NaN      NaN   NaN   NaN      NaN     NaN   NaN  \n",
       "5  ...   NaN      NaN     NaN  NaN      NaN   NaN   NaN      NaN     NaN   NaN  \n",
       "\n",
       "[5 rows x 27516 columns]"
      ]
     },
     "execution_count": 292,
     "metadata": {},
     "output_type": "execute_result"
    }
   ],
   "source": [
    "new_df.head()"
   ]
  },
  {
   "cell_type": "code",
   "execution_count": 293,
   "id": "4e1abd77",
   "metadata": {},
   "outputs": [
    {
     "data": {
      "text/plain": [
       "(2997, 27516)"
      ]
     },
     "execution_count": 293,
     "metadata": {},
     "output_type": "execute_result"
    }
   ],
   "source": [
    "new_df.shape"
   ]
  },
  {
   "cell_type": "code",
   "execution_count": 294,
   "id": "2a09ce04",
   "metadata": {},
   "outputs": [],
   "source": [
    "spam_ham = [ df.iloc[x][1] for x in range (0, 2997)]"
   ]
  },
  {
   "cell_type": "code",
   "execution_count": 295,
   "id": "12aa88f9",
   "metadata": {},
   "outputs": [],
   "source": [
    "new_df[\"spam_ham\"] = spam_ham"
   ]
  },
  {
   "cell_type": "code",
   "execution_count": 296,
   "id": "e1ee579b",
   "metadata": {},
   "outputs": [
    {
     "data": {
      "text/plain": [
       "(2997, 27517)"
      ]
     },
     "execution_count": 296,
     "metadata": {},
     "output_type": "execute_result"
    }
   ],
   "source": [
    "new_df.shape"
   ]
  },
  {
   "cell_type": "code",
   "execution_count": 307,
   "id": "1b7fe06e",
   "metadata": {},
   "outputs": [],
   "source": [
    "new_df = new_df.fillna(int(0))"
   ]
  },
  {
   "cell_type": "code",
   "execution_count": 308,
   "id": "52307167",
   "metadata": {},
   "outputs": [
    {
     "data": {
      "text/plain": [
       "0"
      ]
     },
     "execution_count": 308,
     "metadata": {},
     "output_type": "execute_result"
    }
   ],
   "source": [
    "new_df.iloc[500][-1]"
   ]
  },
  {
   "cell_type": "code",
   "execution_count": 309,
   "id": "cdcdb213",
   "metadata": {},
   "outputs": [
    {
     "data": {
      "text/plain": [
       "0"
      ]
     },
     "execution_count": 309,
     "metadata": {},
     "output_type": "execute_result"
    }
   ],
   "source": [
    "new_df.loc[400][\"spam_ham\"]"
   ]
  },
  {
   "cell_type": "code",
   "execution_count": 310,
   "id": "9bb3ecc3",
   "metadata": {},
   "outputs": [
    {
     "data": {
      "text/html": [
       "<div>\n",
       "<style scoped>\n",
       "    .dataframe tbody tr th:only-of-type {\n",
       "        vertical-align: middle;\n",
       "    }\n",
       "\n",
       "    .dataframe tbody tr th {\n",
       "        vertical-align: top;\n",
       "    }\n",
       "\n",
       "    .dataframe thead th {\n",
       "        text-align: right;\n",
       "    }\n",
       "</style>\n",
       "<table border=\"1\" class=\"dataframe\">\n",
       "  <thead>\n",
       "    <tr style=\"text-align: right;\">\n",
       "      <th></th>\n",
       "      <th>hoarding</th>\n",
       "      <th>morten</th>\n",
       "      <th>aber</th>\n",
       "      <th>puerile</th>\n",
       "      <th>kren</th>\n",
       "      <th>lesbians</th>\n",
       "      <th>moody</th>\n",
       "      <th>maine</th>\n",
       "      <th>too</th>\n",
       "      <th>windshields</th>\n",
       "      <th>...</th>\n",
       "      <th>searchng</th>\n",
       "      <th>accross</th>\n",
       "      <th>loot</th>\n",
       "      <th>arranged</th>\n",
       "      <th>hatch</th>\n",
       "      <th>sinus</th>\n",
       "      <th>sickness</th>\n",
       "      <th>coaches</th>\n",
       "      <th>drais</th>\n",
       "      <th>spam_ham</th>\n",
       "    </tr>\n",
       "  </thead>\n",
       "  <tbody>\n",
       "    <tr>\n",
       "      <th>1</th>\n",
       "      <td>0</td>\n",
       "      <td>0</td>\n",
       "      <td>0</td>\n",
       "      <td>0</td>\n",
       "      <td>0</td>\n",
       "      <td>0</td>\n",
       "      <td>0</td>\n",
       "      <td>0</td>\n",
       "      <td>0</td>\n",
       "      <td>0</td>\n",
       "      <td>...</td>\n",
       "      <td>0</td>\n",
       "      <td>0</td>\n",
       "      <td>0</td>\n",
       "      <td>0</td>\n",
       "      <td>0</td>\n",
       "      <td>0</td>\n",
       "      <td>0</td>\n",
       "      <td>0</td>\n",
       "      <td>0</td>\n",
       "      <td>0</td>\n",
       "    </tr>\n",
       "    <tr>\n",
       "      <th>2</th>\n",
       "      <td>0</td>\n",
       "      <td>0</td>\n",
       "      <td>0</td>\n",
       "      <td>0</td>\n",
       "      <td>0</td>\n",
       "      <td>0</td>\n",
       "      <td>0</td>\n",
       "      <td>0</td>\n",
       "      <td>0</td>\n",
       "      <td>0</td>\n",
       "      <td>...</td>\n",
       "      <td>0</td>\n",
       "      <td>0</td>\n",
       "      <td>0</td>\n",
       "      <td>0</td>\n",
       "      <td>0</td>\n",
       "      <td>0</td>\n",
       "      <td>0</td>\n",
       "      <td>0</td>\n",
       "      <td>0</td>\n",
       "      <td>0</td>\n",
       "    </tr>\n",
       "    <tr>\n",
       "      <th>3</th>\n",
       "      <td>0</td>\n",
       "      <td>0</td>\n",
       "      <td>0</td>\n",
       "      <td>0</td>\n",
       "      <td>0</td>\n",
       "      <td>0</td>\n",
       "      <td>0</td>\n",
       "      <td>0</td>\n",
       "      <td>0</td>\n",
       "      <td>0</td>\n",
       "      <td>...</td>\n",
       "      <td>0</td>\n",
       "      <td>0</td>\n",
       "      <td>0</td>\n",
       "      <td>0</td>\n",
       "      <td>0</td>\n",
       "      <td>0</td>\n",
       "      <td>0</td>\n",
       "      <td>0</td>\n",
       "      <td>0</td>\n",
       "      <td>0</td>\n",
       "    </tr>\n",
       "    <tr>\n",
       "      <th>4</th>\n",
       "      <td>0</td>\n",
       "      <td>0</td>\n",
       "      <td>0</td>\n",
       "      <td>0</td>\n",
       "      <td>0</td>\n",
       "      <td>0</td>\n",
       "      <td>0</td>\n",
       "      <td>0</td>\n",
       "      <td>0</td>\n",
       "      <td>0</td>\n",
       "      <td>...</td>\n",
       "      <td>0</td>\n",
       "      <td>0</td>\n",
       "      <td>0</td>\n",
       "      <td>0</td>\n",
       "      <td>0</td>\n",
       "      <td>0</td>\n",
       "      <td>0</td>\n",
       "      <td>0</td>\n",
       "      <td>0</td>\n",
       "      <td>0</td>\n",
       "    </tr>\n",
       "    <tr>\n",
       "      <th>5</th>\n",
       "      <td>0</td>\n",
       "      <td>0</td>\n",
       "      <td>0</td>\n",
       "      <td>0</td>\n",
       "      <td>0</td>\n",
       "      <td>0</td>\n",
       "      <td>0</td>\n",
       "      <td>0</td>\n",
       "      <td>0</td>\n",
       "      <td>0</td>\n",
       "      <td>...</td>\n",
       "      <td>0</td>\n",
       "      <td>0</td>\n",
       "      <td>0</td>\n",
       "      <td>0</td>\n",
       "      <td>0</td>\n",
       "      <td>0</td>\n",
       "      <td>0</td>\n",
       "      <td>0</td>\n",
       "      <td>0</td>\n",
       "      <td>0</td>\n",
       "    </tr>\n",
       "  </tbody>\n",
       "</table>\n",
       "<p>5 rows × 27517 columns</p>\n",
       "</div>"
      ],
      "text/plain": [
       "   hoarding  morten  aber  puerile  kren  lesbians  moody  maine  too  \\\n",
       "1         0       0     0        0     0         0      0      0    0   \n",
       "2         0       0     0        0     0         0      0      0    0   \n",
       "3         0       0     0        0     0         0      0      0    0   \n",
       "4         0       0     0        0     0         0      0      0    0   \n",
       "5         0       0     0        0     0         0      0      0    0   \n",
       "\n",
       "   windshields  ...  searchng  accross  loot  arranged  hatch  sinus  \\\n",
       "1            0  ...         0        0     0         0      0      0   \n",
       "2            0  ...         0        0     0         0      0      0   \n",
       "3            0  ...         0        0     0         0      0      0   \n",
       "4            0  ...         0        0     0         0      0      0   \n",
       "5            0  ...         0        0     0         0      0      0   \n",
       "\n",
       "   sickness  coaches  drais  spam_ham  \n",
       "1         0        0      0         0  \n",
       "2         0        0      0         0  \n",
       "3         0        0      0         0  \n",
       "4         0        0      0         0  \n",
       "5         0        0      0         0  \n",
       "\n",
       "[5 rows x 27517 columns]"
      ]
     },
     "execution_count": 310,
     "metadata": {},
     "output_type": "execute_result"
    }
   ],
   "source": [
    "new_df.head()"
   ]
  },
  {
   "cell_type": "code",
   "execution_count": 311,
   "id": "35a75e68",
   "metadata": {},
   "outputs": [],
   "source": [
    "for i in range(0, 2997):\n",
    "    email = df.iloc[i][0]\n",
    "    words = email.split()\n",
    "    for word in words:\n",
    "        isalpha = False\n",
    "        isnum = False\n",
    "        isspecial = False\n",
    "        for alpha in word:\n",
    "            if alpha>='a' and alpha<='z' or alpha>='A' and alpha<='Z':\n",
    "                isalpha = True\n",
    "            elif alpha>='0' and alpha <='9':\n",
    "                isnum = True\n",
    "            else:\n",
    "                isspecial = True\n",
    "        if isspecial:\n",
    "            continue\n",
    "        elif isalpha and isnum:\n",
    "            continue\n",
    "        elif len(word)>45:\n",
    "            continue\n",
    "        new_df.at[new_df.index[i],word] = int(new_df.at[new_df.index[i],word]) + int(1)"
   ]
  },
  {
   "cell_type": "code",
   "execution_count": 312,
   "id": "c620c92f",
   "metadata": {},
   "outputs": [
    {
     "data": {
      "text/html": [
       "<div>\n",
       "<style scoped>\n",
       "    .dataframe tbody tr th:only-of-type {\n",
       "        vertical-align: middle;\n",
       "    }\n",
       "\n",
       "    .dataframe tbody tr th {\n",
       "        vertical-align: top;\n",
       "    }\n",
       "\n",
       "    .dataframe thead th {\n",
       "        text-align: right;\n",
       "    }\n",
       "</style>\n",
       "<table border=\"1\" class=\"dataframe\">\n",
       "  <thead>\n",
       "    <tr style=\"text-align: right;\">\n",
       "      <th></th>\n",
       "      <th>hoarding</th>\n",
       "      <th>morten</th>\n",
       "      <th>aber</th>\n",
       "      <th>puerile</th>\n",
       "      <th>kren</th>\n",
       "      <th>lesbians</th>\n",
       "      <th>moody</th>\n",
       "      <th>maine</th>\n",
       "      <th>too</th>\n",
       "      <th>windshields</th>\n",
       "      <th>...</th>\n",
       "      <th>searchng</th>\n",
       "      <th>accross</th>\n",
       "      <th>loot</th>\n",
       "      <th>arranged</th>\n",
       "      <th>hatch</th>\n",
       "      <th>sinus</th>\n",
       "      <th>sickness</th>\n",
       "      <th>coaches</th>\n",
       "      <th>drais</th>\n",
       "      <th>spam_ham</th>\n",
       "    </tr>\n",
       "  </thead>\n",
       "  <tbody>\n",
       "    <tr>\n",
       "      <th>1</th>\n",
       "      <td>0</td>\n",
       "      <td>0</td>\n",
       "      <td>0</td>\n",
       "      <td>0</td>\n",
       "      <td>0</td>\n",
       "      <td>0</td>\n",
       "      <td>0</td>\n",
       "      <td>0</td>\n",
       "      <td>0</td>\n",
       "      <td>0</td>\n",
       "      <td>...</td>\n",
       "      <td>0</td>\n",
       "      <td>0</td>\n",
       "      <td>0</td>\n",
       "      <td>0</td>\n",
       "      <td>0</td>\n",
       "      <td>0</td>\n",
       "      <td>0</td>\n",
       "      <td>0</td>\n",
       "      <td>0</td>\n",
       "      <td>0</td>\n",
       "    </tr>\n",
       "    <tr>\n",
       "      <th>2</th>\n",
       "      <td>0</td>\n",
       "      <td>0</td>\n",
       "      <td>0</td>\n",
       "      <td>0</td>\n",
       "      <td>0</td>\n",
       "      <td>0</td>\n",
       "      <td>0</td>\n",
       "      <td>0</td>\n",
       "      <td>0</td>\n",
       "      <td>0</td>\n",
       "      <td>...</td>\n",
       "      <td>0</td>\n",
       "      <td>0</td>\n",
       "      <td>0</td>\n",
       "      <td>0</td>\n",
       "      <td>0</td>\n",
       "      <td>0</td>\n",
       "      <td>0</td>\n",
       "      <td>0</td>\n",
       "      <td>0</td>\n",
       "      <td>0</td>\n",
       "    </tr>\n",
       "    <tr>\n",
       "      <th>3</th>\n",
       "      <td>0</td>\n",
       "      <td>0</td>\n",
       "      <td>0</td>\n",
       "      <td>0</td>\n",
       "      <td>0</td>\n",
       "      <td>0</td>\n",
       "      <td>0</td>\n",
       "      <td>0</td>\n",
       "      <td>0</td>\n",
       "      <td>0</td>\n",
       "      <td>...</td>\n",
       "      <td>0</td>\n",
       "      <td>0</td>\n",
       "      <td>0</td>\n",
       "      <td>0</td>\n",
       "      <td>0</td>\n",
       "      <td>0</td>\n",
       "      <td>0</td>\n",
       "      <td>0</td>\n",
       "      <td>0</td>\n",
       "      <td>0</td>\n",
       "    </tr>\n",
       "    <tr>\n",
       "      <th>4</th>\n",
       "      <td>0</td>\n",
       "      <td>0</td>\n",
       "      <td>0</td>\n",
       "      <td>0</td>\n",
       "      <td>0</td>\n",
       "      <td>0</td>\n",
       "      <td>0</td>\n",
       "      <td>0</td>\n",
       "      <td>0</td>\n",
       "      <td>0</td>\n",
       "      <td>...</td>\n",
       "      <td>0</td>\n",
       "      <td>0</td>\n",
       "      <td>0</td>\n",
       "      <td>0</td>\n",
       "      <td>0</td>\n",
       "      <td>0</td>\n",
       "      <td>0</td>\n",
       "      <td>0</td>\n",
       "      <td>0</td>\n",
       "      <td>0</td>\n",
       "    </tr>\n",
       "    <tr>\n",
       "      <th>5</th>\n",
       "      <td>0</td>\n",
       "      <td>0</td>\n",
       "      <td>0</td>\n",
       "      <td>0</td>\n",
       "      <td>0</td>\n",
       "      <td>0</td>\n",
       "      <td>0</td>\n",
       "      <td>0</td>\n",
       "      <td>0</td>\n",
       "      <td>0</td>\n",
       "      <td>...</td>\n",
       "      <td>0</td>\n",
       "      <td>0</td>\n",
       "      <td>0</td>\n",
       "      <td>0</td>\n",
       "      <td>0</td>\n",
       "      <td>0</td>\n",
       "      <td>0</td>\n",
       "      <td>0</td>\n",
       "      <td>0</td>\n",
       "      <td>0</td>\n",
       "    </tr>\n",
       "  </tbody>\n",
       "</table>\n",
       "<p>5 rows × 27517 columns</p>\n",
       "</div>"
      ],
      "text/plain": [
       "   hoarding  morten  aber  puerile  kren  lesbians  moody  maine  too  \\\n",
       "1         0       0     0        0     0         0      0      0    0   \n",
       "2         0       0     0        0     0         0      0      0    0   \n",
       "3         0       0     0        0     0         0      0      0    0   \n",
       "4         0       0     0        0     0         0      0      0    0   \n",
       "5         0       0     0        0     0         0      0      0    0   \n",
       "\n",
       "   windshields  ...  searchng  accross  loot  arranged  hatch  sinus  \\\n",
       "1            0  ...         0        0     0         0      0      0   \n",
       "2            0  ...         0        0     0         0      0      0   \n",
       "3            0  ...         0        0     0         0      0      0   \n",
       "4            0  ...         0        0     0         0      0      0   \n",
       "5            0  ...         0        0     0         0      0      0   \n",
       "\n",
       "   sickness  coaches  drais  spam_ham  \n",
       "1         0        0      0         0  \n",
       "2         0        0      0         0  \n",
       "3         0        0      0         0  \n",
       "4         0        0      0         0  \n",
       "5         0        0      0         0  \n",
       "\n",
       "[5 rows x 27517 columns]"
      ]
     },
     "execution_count": 312,
     "metadata": {},
     "output_type": "execute_result"
    }
   ],
   "source": [
    "new_df.head()"
   ]
  },
  {
   "cell_type": "code",
   "execution_count": 316,
   "id": "13ad8b79",
   "metadata": {},
   "outputs": [
    {
     "data": {
      "text/plain": [
       "0    2878\n",
       "1     111\n",
       "2       8\n",
       "Name: hi, dtype: int64"
      ]
     },
     "execution_count": 316,
     "metadata": {},
     "output_type": "execute_result"
    }
   ],
   "source": [
    "new_df['hi'].value_counts()"
   ]
  },
  {
   "cell_type": "code",
   "execution_count": 318,
   "id": "acc01233",
   "metadata": {},
   "outputs": [],
   "source": [
    "new_df.to_csv(\"processed_spam_or_not_spam.csv\")"
   ]
  },
  {
   "cell_type": "code",
   "execution_count": 319,
   "id": "bcfcac13",
   "metadata": {},
   "outputs": [],
   "source": [
    "new_file = pd.read_csv(\"processed_spam_or_not_spam.csv\")"
   ]
  },
  {
   "cell_type": "code",
   "execution_count": 320,
   "id": "6d4d6c4c",
   "metadata": {},
   "outputs": [
    {
     "data": {
      "text/html": [
       "<div>\n",
       "<style scoped>\n",
       "    .dataframe tbody tr th:only-of-type {\n",
       "        vertical-align: middle;\n",
       "    }\n",
       "\n",
       "    .dataframe tbody tr th {\n",
       "        vertical-align: top;\n",
       "    }\n",
       "\n",
       "    .dataframe thead th {\n",
       "        text-align: right;\n",
       "    }\n",
       "</style>\n",
       "<table border=\"1\" class=\"dataframe\">\n",
       "  <thead>\n",
       "    <tr style=\"text-align: right;\">\n",
       "      <th></th>\n",
       "      <th>Unnamed: 0</th>\n",
       "      <th>hoarding</th>\n",
       "      <th>morten</th>\n",
       "      <th>aber</th>\n",
       "      <th>puerile</th>\n",
       "      <th>kren</th>\n",
       "      <th>lesbians</th>\n",
       "      <th>moody</th>\n",
       "      <th>maine</th>\n",
       "      <th>too</th>\n",
       "      <th>...</th>\n",
       "      <th>searchng</th>\n",
       "      <th>accross</th>\n",
       "      <th>loot</th>\n",
       "      <th>arranged</th>\n",
       "      <th>hatch</th>\n",
       "      <th>sinus</th>\n",
       "      <th>sickness</th>\n",
       "      <th>coaches</th>\n",
       "      <th>drais</th>\n",
       "      <th>spam_ham</th>\n",
       "    </tr>\n",
       "  </thead>\n",
       "  <tbody>\n",
       "    <tr>\n",
       "      <th>0</th>\n",
       "      <td>1</td>\n",
       "      <td>0</td>\n",
       "      <td>0</td>\n",
       "      <td>0</td>\n",
       "      <td>0</td>\n",
       "      <td>0</td>\n",
       "      <td>0</td>\n",
       "      <td>0</td>\n",
       "      <td>0</td>\n",
       "      <td>0</td>\n",
       "      <td>...</td>\n",
       "      <td>0</td>\n",
       "      <td>0</td>\n",
       "      <td>0</td>\n",
       "      <td>0</td>\n",
       "      <td>0</td>\n",
       "      <td>0</td>\n",
       "      <td>0</td>\n",
       "      <td>0</td>\n",
       "      <td>0</td>\n",
       "      <td>0</td>\n",
       "    </tr>\n",
       "    <tr>\n",
       "      <th>1</th>\n",
       "      <td>2</td>\n",
       "      <td>0</td>\n",
       "      <td>0</td>\n",
       "      <td>0</td>\n",
       "      <td>0</td>\n",
       "      <td>0</td>\n",
       "      <td>0</td>\n",
       "      <td>0</td>\n",
       "      <td>0</td>\n",
       "      <td>0</td>\n",
       "      <td>...</td>\n",
       "      <td>0</td>\n",
       "      <td>0</td>\n",
       "      <td>0</td>\n",
       "      <td>0</td>\n",
       "      <td>0</td>\n",
       "      <td>0</td>\n",
       "      <td>0</td>\n",
       "      <td>0</td>\n",
       "      <td>0</td>\n",
       "      <td>0</td>\n",
       "    </tr>\n",
       "    <tr>\n",
       "      <th>2</th>\n",
       "      <td>3</td>\n",
       "      <td>0</td>\n",
       "      <td>0</td>\n",
       "      <td>0</td>\n",
       "      <td>0</td>\n",
       "      <td>0</td>\n",
       "      <td>0</td>\n",
       "      <td>0</td>\n",
       "      <td>0</td>\n",
       "      <td>0</td>\n",
       "      <td>...</td>\n",
       "      <td>0</td>\n",
       "      <td>0</td>\n",
       "      <td>0</td>\n",
       "      <td>0</td>\n",
       "      <td>0</td>\n",
       "      <td>0</td>\n",
       "      <td>0</td>\n",
       "      <td>0</td>\n",
       "      <td>0</td>\n",
       "      <td>0</td>\n",
       "    </tr>\n",
       "    <tr>\n",
       "      <th>3</th>\n",
       "      <td>4</td>\n",
       "      <td>0</td>\n",
       "      <td>0</td>\n",
       "      <td>0</td>\n",
       "      <td>0</td>\n",
       "      <td>0</td>\n",
       "      <td>0</td>\n",
       "      <td>0</td>\n",
       "      <td>0</td>\n",
       "      <td>0</td>\n",
       "      <td>...</td>\n",
       "      <td>0</td>\n",
       "      <td>0</td>\n",
       "      <td>0</td>\n",
       "      <td>0</td>\n",
       "      <td>0</td>\n",
       "      <td>0</td>\n",
       "      <td>0</td>\n",
       "      <td>0</td>\n",
       "      <td>0</td>\n",
       "      <td>0</td>\n",
       "    </tr>\n",
       "    <tr>\n",
       "      <th>4</th>\n",
       "      <td>5</td>\n",
       "      <td>0</td>\n",
       "      <td>0</td>\n",
       "      <td>0</td>\n",
       "      <td>0</td>\n",
       "      <td>0</td>\n",
       "      <td>0</td>\n",
       "      <td>0</td>\n",
       "      <td>0</td>\n",
       "      <td>0</td>\n",
       "      <td>...</td>\n",
       "      <td>0</td>\n",
       "      <td>0</td>\n",
       "      <td>0</td>\n",
       "      <td>0</td>\n",
       "      <td>0</td>\n",
       "      <td>0</td>\n",
       "      <td>0</td>\n",
       "      <td>0</td>\n",
       "      <td>0</td>\n",
       "      <td>0</td>\n",
       "    </tr>\n",
       "  </tbody>\n",
       "</table>\n",
       "<p>5 rows × 27518 columns</p>\n",
       "</div>"
      ],
      "text/plain": [
       "   Unnamed: 0  hoarding  morten  aber  puerile  kren  lesbians  moody  maine  \\\n",
       "0           1         0       0     0        0     0         0      0      0   \n",
       "1           2         0       0     0        0     0         0      0      0   \n",
       "2           3         0       0     0        0     0         0      0      0   \n",
       "3           4         0       0     0        0     0         0      0      0   \n",
       "4           5         0       0     0        0     0         0      0      0   \n",
       "\n",
       "   too  ...  searchng  accross  loot  arranged  hatch  sinus  sickness  \\\n",
       "0    0  ...         0        0     0         0      0      0         0   \n",
       "1    0  ...         0        0     0         0      0      0         0   \n",
       "2    0  ...         0        0     0         0      0      0         0   \n",
       "3    0  ...         0        0     0         0      0      0         0   \n",
       "4    0  ...         0        0     0         0      0      0         0   \n",
       "\n",
       "   coaches  drais  spam_ham  \n",
       "0        0      0         0  \n",
       "1        0      0         0  \n",
       "2        0      0         0  \n",
       "3        0      0         0  \n",
       "4        0      0         0  \n",
       "\n",
       "[5 rows x 27518 columns]"
      ]
     },
     "execution_count": 320,
     "metadata": {},
     "output_type": "execute_result"
    }
   ],
   "source": [
    "new_file.head()"
   ]
  },
  {
   "cell_type": "code",
   "execution_count": 321,
   "id": "957082f3",
   "metadata": {},
   "outputs": [
    {
     "data": {
      "text/plain": [
       "(2997, 27518)"
      ]
     },
     "execution_count": 321,
     "metadata": {},
     "output_type": "execute_result"
    }
   ],
   "source": [
    "new_file.shape"
   ]
  },
  {
   "cell_type": "code",
   "execution_count": 324,
   "id": "6d0d1f98",
   "metadata": {},
   "outputs": [
    {
     "data": {
      "text/plain": [
       "1"
      ]
     },
     "execution_count": 324,
     "metadata": {},
     "output_type": "execute_result"
    }
   ],
   "source": [
    "new_file.loc[2888][\"spam_ham\"]"
   ]
  }
 ],
 "metadata": {
  "kernelspec": {
   "display_name": "Python 3 (ipykernel)",
   "language": "python",
   "name": "python3"
  },
  "language_info": {
   "codemirror_mode": {
    "name": "ipython",
    "version": 3
   },
   "file_extension": ".py",
   "mimetype": "text/x-python",
   "name": "python",
   "nbconvert_exporter": "python",
   "pygments_lexer": "ipython3",
   "version": "3.7.0"
  }
 },
 "nbformat": 4,
 "nbformat_minor": 5
}
